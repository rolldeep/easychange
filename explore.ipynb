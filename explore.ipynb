{
 "cells": [
  {
   "cell_type": "code",
   "execution_count": 1,
   "metadata": {},
   "outputs": [],
   "source": [
    "from bs4 import BeautifulSoup\n",
    "\n",
    "with open(\"data.html\") as f:\n",
    "    html = f.read()\n",
    "\n",
    "\n",
    "soup = BeautifulSoup(html, 'html.parser')\n",
    "elements = soup.select(\"div.notifications-desc\")"
   ]
  },
  {
   "cell_type": "code",
   "execution_count": 29,
   "metadata": {},
   "outputs": [],
   "source": [
    "s = \"\"\n",
    "for element in elements[:10]:\n",
    "    row = [e.strip() for e in element.text.split(\"\\n\")]\n",
    "    row = [e for e in row if e != \"\"]\n",
    "    s += ' '.join(row) + \"\\n\""
   ]
  },
  {
   "cell_type": "code",
   "execution_count": 31,
   "metadata": {},
   "outputs": [
    {
     "name": "stdout",
     "output_type": "stream",
     "text": [
      "2,740.00 RSD\n",
      "24.91 EUR\n",
      "68.94 EUR\n",
      "820.00 RSD\n",
      "7.45 EUR\n",
      "93.85 EUR\n",
      "2,485.00 RSD\n",
      "22.59 EUR\n",
      "101.30 EUR\n",
      "600.00 RSD\n",
      "5.45 EUR\n",
      "123.89 EUR\n",
      "1,351.00 RSD\n",
      "12.29 EUR\n",
      "129.34 EUR\n",
      "814.96 RSD\n",
      "7.40 EUR\n",
      "141.63 EUR\n",
      "1,227.48 AMD\n",
      "5,011.60 AMD\n",
      "3,731.79 RSD\n",
      "33.90 EUR\n",
      "149.06 EUR\n",
      "813.00 RSD\n",
      "7.39 EUR\n",
      "182.96 EUR\n",
      "4,145.00 RSD\n",
      "37.65 EUR\n",
      "190.35 EUR\n"
     ]
    }
   ],
   "source": [
    "import re\n",
    "\n",
    "\n",
    "\n",
    "regex = r\"(\\d{1,3}(?:,\\d{3})*\\.\\d{2})\\s(\\w{3})\"\n",
    "\n",
    "matches = re.findall(regex, s)\n",
    "\n",
    "for match in matches:\n",
    "    number, currency = match\n",
    "    print(number, currency)"
   ]
  },
  {
   "cell_type": "code",
   "execution_count": 6,
   "metadata": {},
   "outputs": [
    {
     "data": {
      "text/plain": [
       "'2,740.00 RSD24.91 EUR4318***7332Wolt doo, RS22.02.2023 18:18MNACORD: 68.94 EUR'"
      ]
     },
     "execution_count": 6,
     "metadata": {},
     "output_type": "execute_result"
    }
   ],
   "source": [
    "elements[0].text.replace(\"\\n\", \"\").strip()"
   ]
  },
  {
   "cell_type": "code",
   "execution_count": 32,
   "metadata": {},
   "outputs": [
    {
     "name": "stdout",
     "output_type": "stream",
     "text": [
      "1: 2,740.00 ,740 - RSD\n",
      "2: 24.91  - EUR\n",
      "3: 68.94  - EUR\n",
      "4: 820.00  - RSD\n",
      "5: 7.45  - EUR\n",
      "6: 93.85  - EUR\n",
      "7: 2,485.00 ,485 - RSD\n",
      "8: 22.59  - EUR\n",
      "9: 101.30  - EUR\n",
      "10: 600.00  - RSD\n",
      "11: 5.45  - EUR\n",
      "12: 123.89  - EUR\n",
      "13: 1,351.00 ,351 - RSD\n",
      "14: 12.29  - EUR\n",
      "15: 129.34  - EUR\n",
      "16: 814.96  - RSD\n",
      "17: 7.40  - EUR\n",
      "18: 141.63  - EUR\n",
      "19: 3,731.79 ,731 - RSD\n",
      "20: 33.90  - EUR\n",
      "21: 149.06  - EUR\n",
      "22: 813.00  - RSD\n",
      "23: 7.39  - EUR\n",
      "24: 182.96  - EUR\n",
      "25: 4,145.00 ,145 - RSD\n",
      "26: 37.65  - EUR\n",
      "27: 190.35  - EUR\n"
     ]
    }
   ],
   "source": [
    "pattern = r'(\\d{1,3}(,\\d{3})*\\.\\d{2})\\s(RSD|EUR)'\n",
    "matches = re.findall(pattern, s)\n",
    "\n",
    "# iterate over matches and print the results\n",
    "for i, match in enumerate(matches):\n",
    "    print(f\"{i+1}: {match[0]} {match[1]} - {match[2]}\")"
   ]
  },
  {
   "cell_type": "code",
   "execution_count": null,
   "metadata": {},
   "outputs": [],
   "source": []
  }
 ],
 "metadata": {
  "kernelspec": {
   "display_name": "base",
   "language": "python",
   "name": "python3"
  },
  "language_info": {
   "codemirror_mode": {
    "name": "ipython",
    "version": 3
   },
   "file_extension": ".py",
   "mimetype": "text/x-python",
   "name": "python",
   "nbconvert_exporter": "python",
   "pygments_lexer": "ipython3",
   "version": "3.9.12"
  },
  "orig_nbformat": 4,
  "vscode": {
   "interpreter": {
    "hash": "472f3460692ba2c0861145e5e150d03c8a5c0e40e057944a047c431b9050b93d"
   }
  }
 },
 "nbformat": 4,
 "nbformat_minor": 2
}
